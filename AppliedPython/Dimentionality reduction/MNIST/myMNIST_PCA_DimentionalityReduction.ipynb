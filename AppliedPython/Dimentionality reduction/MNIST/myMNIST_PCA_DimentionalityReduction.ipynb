{
 "cells": [
  {
   "cell_type": "code",
   "execution_count": 2,
   "metadata": {},
   "outputs": [],
   "source": [
    "#importing pandas as pd\n",
    "#opening dataset in dataframe 'df'\n",
    "#extracting labels from 'df'\n",
    "\n",
    "import pandas as pd\n",
    "\n",
    "df = pd.read_csv('mnist_train.csv')\n",
    "df.head()\n",
    "labels = df['label']\n",
    "pixels = df.drop('label', axis = 1)\n"
   ]
  },
  {
   "cell_type": "code",
   "execution_count": 3,
   "metadata": {},
   "outputs": [
    {
     "name": "stdout",
     "output_type": "stream",
     "text": [
      "3\n"
     ]
    },
    {
     "data": {
      "text/plain": [
       "<Figure size 640x480 with 1 Axes>"
      ]
     },
     "metadata": {},
     "output_type": "display_data"
    }
   ],
   "source": [
    "# visualizing a datapoint just to check \n",
    "\n",
    "import matplotlib.pyplot as plt\n",
    "import numpy as np\n",
    "\n",
    "datapoint = 560\n",
    "image = pixels.iloc[datapoint].values.reshape(28,28)\n",
    "print(labels[datapoint])\n",
    "plt.imshow(image)\n",
    "plt.show()\n"
   ]
  },
  {
   "cell_type": "code",
   "execution_count": 4,
   "metadata": {},
   "outputs": [
    {
     "name": "stdout",
     "output_type": "stream",
     "text": [
      "Shape of covariance matrix : (784, 784)\n",
      "Shape of dataframe : (42000, 784)\n"
     ]
    }
   ],
   "source": [
    "# standardizing the dataframe\n",
    "\n",
    "from sklearn.preprocessing import StandardScaler\n",
    "\n",
    "std_data = StandardScaler().fit_transform(pixels)\n",
    "\n",
    "# covariance matrix\n",
    "\n",
    "covar_matrix = np.matmul(std_data.T, std_data)\n",
    "print ('Shape of covariance matrix :', covar_matrix.shape)\n",
    "print ('Shape of dataframe :', std_data.shape)"
   ]
  },
  {
   "cell_type": "code",
   "execution_count": 5,
   "metadata": {},
   "outputs": [
    {
     "data": {
      "text/html": [
       "<div>\n",
       "<style scoped>\n",
       "    .dataframe tbody tr th:only-of-type {\n",
       "        vertical-align: middle;\n",
       "    }\n",
       "\n",
       "    .dataframe tbody tr th {\n",
       "        vertical-align: top;\n",
       "    }\n",
       "\n",
       "    .dataframe thead th {\n",
       "        text-align: right;\n",
       "    }\n",
       "</style>\n",
       "<table border=\"1\" class=\"dataframe\">\n",
       "  <thead>\n",
       "    <tr style=\"text-align: right;\">\n",
       "      <th></th>\n",
       "      <th>0</th>\n",
       "      <th>1</th>\n",
       "      <th>2</th>\n",
       "      <th>3</th>\n",
       "      <th>4</th>\n",
       "      <th>5</th>\n",
       "      <th>6</th>\n",
       "      <th>7</th>\n",
       "      <th>8</th>\n",
       "      <th>9</th>\n",
       "      <th>10</th>\n",
       "    </tr>\n",
       "  </thead>\n",
       "  <tbody>\n",
       "    <tr>\n",
       "      <th>0</th>\n",
       "      <td>-5.140478</td>\n",
       "      <td>-5.226450</td>\n",
       "      <td>3.886959</td>\n",
       "      <td>-0.901304</td>\n",
       "      <td>4.929293</td>\n",
       "      <td>2.036660</td>\n",
       "      <td>4.705686</td>\n",
       "      <td>-4.773767</td>\n",
       "      <td>0.217463</td>\n",
       "      <td>-1.448433</td>\n",
       "      <td>1.0</td>\n",
       "    </tr>\n",
       "    <tr>\n",
       "      <th>1</th>\n",
       "      <td>19.292336</td>\n",
       "      <td>6.033004</td>\n",
       "      <td>1.308178</td>\n",
       "      <td>-2.383421</td>\n",
       "      <td>3.094753</td>\n",
       "      <td>-1.789958</td>\n",
       "      <td>-3.774993</td>\n",
       "      <td>0.147402</td>\n",
       "      <td>-4.093784</td>\n",
       "      <td>-4.311970</td>\n",
       "      <td>0.0</td>\n",
       "    </tr>\n",
       "    <tr>\n",
       "      <th>2</th>\n",
       "      <td>-7.644501</td>\n",
       "      <td>-1.705789</td>\n",
       "      <td>2.289390</td>\n",
       "      <td>2.240863</td>\n",
       "      <td>5.093709</td>\n",
       "      <td>-4.152878</td>\n",
       "      <td>-1.014325</td>\n",
       "      <td>1.732688</td>\n",
       "      <td>0.471225</td>\n",
       "      <td>-0.099846</td>\n",
       "      <td>1.0</td>\n",
       "    </tr>\n",
       "    <tr>\n",
       "      <th>3</th>\n",
       "      <td>-0.474208</td>\n",
       "      <td>5.836117</td>\n",
       "      <td>2.008539</td>\n",
       "      <td>4.271371</td>\n",
       "      <td>2.378345</td>\n",
       "      <td>2.181602</td>\n",
       "      <td>4.397171</td>\n",
       "      <td>-0.362145</td>\n",
       "      <td>0.969732</td>\n",
       "      <td>5.558004</td>\n",
       "      <td>4.0</td>\n",
       "    </tr>\n",
       "    <tr>\n",
       "      <th>4</th>\n",
       "      <td>26.559575</td>\n",
       "      <td>6.024817</td>\n",
       "      <td>0.933174</td>\n",
       "      <td>-3.012559</td>\n",
       "      <td>9.489498</td>\n",
       "      <td>-2.331435</td>\n",
       "      <td>-6.148308</td>\n",
       "      <td>-1.783427</td>\n",
       "      <td>-4.132321</td>\n",
       "      <td>-5.752981</td>\n",
       "      <td>0.0</td>\n",
       "    </tr>\n",
       "  </tbody>\n",
       "</table>\n",
       "</div>"
      ],
      "text/plain": [
       "          0         1         2         3         4         5         6   \\\n",
       "0  -5.140478 -5.226450  3.886959 -0.901304  4.929293  2.036660  4.705686   \n",
       "1  19.292336  6.033004  1.308178 -2.383421  3.094753 -1.789958 -3.774993   \n",
       "2  -7.644501 -1.705789  2.289390  2.240863  5.093709 -4.152878 -1.014325   \n",
       "3  -0.474208  5.836117  2.008539  4.271371  2.378345  2.181602  4.397171   \n",
       "4  26.559575  6.024817  0.933174 -3.012559  9.489498 -2.331435 -6.148308   \n",
       "\n",
       "         7         8         9    10  \n",
       "0 -4.773767  0.217463 -1.448433  1.0  \n",
       "1  0.147402 -4.093784 -4.311970  0.0  \n",
       "2  1.732688  0.471225 -0.099846  1.0  \n",
       "3 -0.362145  0.969732  5.558004  4.0  \n",
       "4 -1.783427 -4.132321 -5.752981  0.0  "
      ]
     },
     "execution_count": 5,
     "metadata": {},
     "output_type": "execute_result"
    }
   ],
   "source": [
    "# pca using scikit learn\n",
    "\n",
    "from sklearn import decomposition\n",
    "pca = decomposition.PCA()\n",
    "pca.n_components = 10\n",
    "pca_data = pca.fit_transform(std_data).T\n",
    "pca_data = np.vstack((pca_data, labels)).T\n",
    "pca_df = pd.DataFrame(data = pca_data)#, columns=('1st Principal', '2nd Principal', 'Label'))\n",
    "pca_df.head()\n",
    "#dataframe.head()\n"
   ]
  },
  {
   "cell_type": "code",
   "execution_count": 80,
   "metadata": {},
   "outputs": [
    {
     "name": "stdout",
     "output_type": "stream",
     "text": [
      "(array([228, 229, 230, 231, 232, 233, 234, 235, 236, 237, 238, 239, 240,\n",
      "       241, 242, 243, 244, 245, 246, 247, 248, 249, 250, 251, 252, 253,\n",
      "       254, 255, 256, 257, 258, 259, 260, 261, 262, 263, 264, 265, 266,\n",
      "       267, 268, 269, 270, 271, 272, 273, 274, 275, 276, 277, 278, 279,\n",
      "       280, 281, 282, 283, 284, 285, 286, 287, 288, 289, 290, 291, 292,\n",
      "       293, 294, 295, 296, 297, 298, 299, 300, 301, 302, 303, 304, 305,\n",
      "       306, 307, 308, 309, 310, 311, 312, 313, 314, 315, 316, 317, 318,\n",
      "       319, 320, 321, 322, 323, 324, 325, 326, 327, 328, 329, 330, 331,\n",
      "       332, 333, 334, 335, 336, 337, 338, 339, 340, 341, 342, 343, 344,\n",
      "       345, 346, 347, 348, 349, 350, 351, 352, 353, 354, 355, 356, 357,\n",
      "       358, 359, 360, 361, 362, 363, 364, 365, 366, 367, 368, 369, 370,\n",
      "       371, 372, 373, 374, 375, 376, 377, 378, 379, 380, 381, 382, 383,\n",
      "       384, 385, 386, 387, 388, 389, 390, 391, 392, 393, 394, 395, 396,\n",
      "       397, 398, 399, 400, 401, 402, 403, 404, 405, 406, 407, 408, 409,\n",
      "       410, 411, 412, 413, 414, 415, 416, 417, 418, 419, 420, 421, 422,\n",
      "       423, 424, 425, 426, 427, 428, 429, 430, 431, 432, 433, 434, 435,\n",
      "       436, 437, 438, 439, 440, 441, 442, 443, 444, 445, 446, 447, 448,\n",
      "       449, 450, 451, 452, 453, 454, 455, 456, 457, 458, 459, 460, 461,\n",
      "       462, 463, 464, 465, 466, 467, 468, 469, 470, 471, 472, 473, 474,\n",
      "       475, 476, 477, 478, 479, 480, 481, 482, 483, 484, 485, 486, 487,\n",
      "       488, 489, 490, 491, 492, 493, 494, 495, 496, 497, 498, 499, 500,\n",
      "       501, 502, 503, 504, 505, 506, 507, 508, 509, 510, 511, 512, 513,\n",
      "       514, 515, 516, 517, 518, 519, 520, 521, 522, 523, 524, 525, 526,\n",
      "       527, 528, 529, 530, 531, 532, 533, 534, 535, 536, 537, 538, 539,\n",
      "       540, 541, 542, 543, 544, 545, 546, 547, 548, 549, 550, 551, 552,\n",
      "       553, 554, 555, 556, 557, 558, 559, 560, 561, 562, 563, 564, 565,\n",
      "       566, 567, 568, 569, 570, 571, 572, 573, 574, 575, 576, 577, 578,\n",
      "       579, 580, 581, 582, 583, 584, 585, 586, 587, 588, 589, 590, 591,\n",
      "       592, 593, 594, 595, 596, 597, 598, 599, 600, 601, 602, 603, 604,\n",
      "       605, 606, 607, 608, 609, 610, 611, 612, 613, 614, 615, 616, 617,\n",
      "       618, 619, 620, 621, 622, 623, 624, 625, 626, 627, 628, 629, 630,\n",
      "       631, 632, 633, 634, 635, 636, 637, 638, 639, 640, 641, 642, 643,\n",
      "       644, 645, 646, 647, 648, 649, 650, 651, 652, 653, 654, 655, 656,\n",
      "       657, 658, 659, 660, 661, 662, 663, 664, 665, 666, 667, 668, 669,\n",
      "       670, 671, 672, 673, 674, 675, 676, 677, 678, 679, 680, 681, 682,\n",
      "       683, 684, 685, 686, 687, 688, 689, 690, 691, 692, 693, 694, 695,\n",
      "       696, 697, 698, 699, 700, 701, 702, 703, 704, 705, 706, 707, 708,\n",
      "       709, 710, 711, 712, 713, 714, 715, 716, 717, 718, 719, 720, 721,\n",
      "       722, 723, 724, 725, 726, 727, 728, 729, 730, 731, 732, 733, 734,\n",
      "       735, 736, 737, 738, 739, 740, 741, 742, 743, 744, 745, 746, 747,\n",
      "       748, 749, 750, 751, 752, 753, 754, 755, 756, 757, 758, 759, 760,\n",
      "       761, 762, 763, 764, 765, 766, 767, 768, 769, 770, 771, 772, 773,\n",
      "       774, 775, 776, 777, 778, 779, 780, 781, 782, 783]),)\n"
     ]
    },
    {
     "data": {
      "image/png": "[encoded data removed]",
      "text/plain": [
       "<Figure size 432x288 with 1 Axes>"
      ]
     },
     "metadata": {},
     "output_type": "display_data"
    }
   ],
   "source": [
    "# What should be the right dimention for reduction?\n",
    "\n",
    "pca.n_components = 784\n",
    "pca_data = pca.fit_transform(std_data)\n",
    "\n",
    "# precentage variance explained\n",
    "\n",
    "percentage_variance_explained = pca.explained_variance_/np.sum(pca.explained_variance_)\n",
    "\n",
    "# cumulative percentage explained\n",
    "\n",
    "cum_var_explained = np.cumsum(percentage_variance_explained)\n",
    "\n",
    "# find the exact number of dimentions with 90% explained variance\n",
    "print(np.where(cum_var_explained > 0.900))\n",
    "# 228\n",
    "\n",
    "yticks  = np.append(np.arange(cum_var_explained.min(), cum_var_explained.max(), step=0.1) , 0.90)\n",
    "plt.yticks(yticks)\n",
    "plt.grid()\n",
    "plt.plot(cum_var_explained)\n",
    "plt.ylabel('Cumulative Variance explained')\n",
    "plt.xlabel('Features')\n",
    "plt.show()\n"
   ]
  }
 ],
 "metadata": {
  "kernelspec": {
   "display_name": "Python 3",
   "language": "python",
   "name": "python3"
  },
  "language_info": {
   "codemirror_mode": {
    "name": "ipython",
    "version": 3
   },
   "file_extension": ".py",
   "mimetype": "text/x-python",
   "name": "python",
   "nbconvert_exporter": "python",
   "pygments_lexer": "ipython3",
   "version": "3.6.5"
  }
 },
 "nbformat": 4,
 "nbformat_minor": 2
}
